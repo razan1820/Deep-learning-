{
 "cells": [
  {
   "cell_type": "code",
   "execution_count": 5,
   "id": "49d134a3",
   "metadata": {
    "scrolled": true
   },
   "outputs": [
    {
     "name": "stdout",
     "output_type": "stream",
     "text": [
      "Random starting synaptic weights: \n",
      "[[-0.16595599]\n",
      " [ 0.44064899]\n",
      " [-0.99977125]]\n",
      "Synaptic weights after training: \n",
      "[[ 9.67299303]\n",
      " [-0.2078435 ]\n",
      " [-4.62963669]]\n",
      "Input 1: 1\n",
      "Input 2: 1\n",
      "Input 3: 0\n",
      "New situation: input data =  1 1 0\n",
      "Output data: \n",
      "[0.9999225]\n",
      "so the final output is  1\n"
     ]
    }
   ],
   "source": [
    "import numpy as np\n",
    "class NeuralNetwork():\n",
    "    def __init__(self):\n",
    "        \n",
    "        np.random.seed(1)\n",
    "        self.synaptic_weights = 2 * np.random.random((3, 1)) - 1\n",
    "        \n",
    "    def sigmoid(self, x):\n",
    "        \n",
    "        return 1/(1+np.exp(-x))\n",
    "\n",
    "    def sigmoid_derivative(self, x):\n",
    "        return x*(1-x)\n",
    "\n",
    "    def train(self,training_inputs,training_outputs, training_iterations):\n",
    "  \n",
    "        for iteration in range(training_iterations):\n",
    "      \n",
    "            output = self.think(training_inputs)\n",
    "            error = training_outputs - output\n",
    "            adjustments = np.dot(training_inputs.T,error * self.sigmoid_derivative(output))\n",
    "            self.synaptic_weights += adjustments\n",
    "            \n",
    "    def think(self, inputs):\n",
    "        \n",
    "        inputs = inputs.astype(float)\n",
    "        \n",
    "        output = self.sigmoid(np.dot(inputs, self.synaptic_weights))\n",
    "        \n",
    "        return output\n",
    "    \n",
    "#if __name__ == \"__main__\": \n",
    "    \n",
    "neural_network = NeuralNetwork()\n",
    "print(\"Random starting synaptic weights: \")\n",
    "print(neural_network.synaptic_weights)\n",
    "\n",
    "training_inputs = np.array([[0,0,1],[1,1,1],[1,0,1],[0,1,1]])\n",
    "training_outputs = np.array([[0,1,1,0]]).T\n",
    "neural_network.train(training_inputs, training_outputs, 10000)\n",
    "\n",
    "print(\"Synaptic weights after training: \")\n",
    "print(neural_network.synaptic_weights)\n",
    "A = str(input(\"Input 1: \"))\n",
    "B = str(input(\"Input 2: \"))\n",
    "C = str(input(\"Input 3: \"))\n",
    "print(\"New situation: input data = \", A, B, C)\n",
    "print(\"Output data: \")\n",
    "#print(neural_network.think(np.array([A, B, C])))\n",
    "float_output=neural_network.think(np.array([A, B, C]))\n",
    "print(float_output)\n",
    "if float_output>0.5:\n",
    "    print(\"so the final output is \",1)\n",
    "else:\n",
    "    print(\"so the final output is \",0)\n",
    "\n"
   ]
  },
  {
   "cell_type": "code",
   "execution_count": null,
   "id": "0ec793ab",
   "metadata": {},
   "outputs": [],
   "source": []
  },
  {
   "cell_type": "code",
   "execution_count": null,
   "id": "2330044a",
   "metadata": {},
   "outputs": [],
   "source": []
  }
 ],
 "metadata": {
  "kernelspec": {
   "display_name": "Python 3 (ipykernel)",
   "language": "python",
   "name": "python3"
  },
  "language_info": {
   "codemirror_mode": {
    "name": "ipython",
    "version": 3
   },
   "file_extension": ".py",
   "mimetype": "text/x-python",
   "name": "python",
   "nbconvert_exporter": "python",
   "pygments_lexer": "ipython3",
   "version": "3.9.12"
  }
 },
 "nbformat": 4,
 "nbformat_minor": 5
}
